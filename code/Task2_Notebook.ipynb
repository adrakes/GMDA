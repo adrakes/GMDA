{
 "cells": [
  {
   "cell_type": "markdown",
   "metadata": {},
   "source": [
    "# Task 2.2"
   ]
  },
  {
   "cell_type": "code",
   "execution_count": 1,
   "metadata": {
    "collapsed": false
   },
   "outputs": [
    {
     "name": "stdout",
     "output_type": "stream",
     "text": [
      "Populating the interactive namespace from numpy and matplotlib\n"
     ]
    }
   ],
   "source": [
    "from __future__ import division\n",
    "import numpy as np\n",
    "%pylab inline\n",
    "from os import chdir"
   ]
  },
  {
   "cell_type": "markdown",
   "metadata": {},
   "source": [
    "##### Import data"
   ]
  },
  {
   "cell_type": "code",
   "execution_count": 6,
   "metadata": {
    "collapsed": false
   },
   "outputs": [],
   "source": [
    "chdir ('/Users/paulvercoustre/Documents/Education/Centrale_ESSEC/Geometric_Methods_in_Data_Analysis/Project/Data/')\n",
    "S = np.load(\"S.npy\")"
   ]
  },
  {
   "cell_type": "markdown",
   "metadata": {},
   "source": [
    "##### S1 - The sbl-cluster-MTB-euclid.exe directly gives us the set S1 of 1103 conformations by retaining the low energy conformations only using topological persistence"
   ]
  },
  {
   "cell_type": "code",
   "execution_count": 8,
   "metadata": {
    "collapsed": true
   },
   "outputs": [],
   "source": [
    "chdir ('/Users/paulvercoustre/Documents/Education/Centrale_ESSEC/Geometric_Methods_in_Data_Analysis/Project/Data/S1')\n",
    "S1 = np.loadtxt('S1.txt', delimiter = ' ',usecols=range(208))\n",
    "np.save(\"S1\",S1,allow_pickle=True)"
   ]
  },
  {
   "cell_type": "markdown",
   "metadata": {},
   "source": [
    "##### S2 - The sbl-cluster-k-means-euclid__centers.txt and sbl-cluster-k-means-euclid__clusters.txt are created in using using k-means with the so-called ++ initialization, computing a clustering with 1000 clusters of the dataset hybrid-TRRT-BH-BLN__minima_below_100 with sbl-cluster-k-means-euclid.exe."
   ]
  },
  {
   "cell_type": "code",
   "execution_count": 9,
   "metadata": {
    "collapsed": true
   },
   "outputs": [],
   "source": [
    "chdir ('/Users/paulvercoustre/Documents/Education/Centrale_ESSEC/Geometric_Methods_in_Data_Analysis/Project/Data/S2')\n",
    "S2centers = np.loadtxt('sbl-cluster-k-means-euclid__centers.txt', delimiter = ' ',usecols=range(208))\n",
    "S2clusters = np.loadtxt('sbl-cluster-k-means-euclid__clusters.txt', delimiter = ' ',usecols=range(1))"
   ]
  },
  {
   "cell_type": "code",
   "execution_count": 7,
   "metadata": {
    "collapsed": false
   },
   "outputs": [
    {
     "name": "stderr",
     "output_type": "stream",
     "text": [
      "/Users/paulvercoustre/anaconda/lib/python2.7/site-packages/ipykernel/__main__.py:6: VisibleDeprecationWarning: using a non-integer number instead of an integer will result in an error in the future\n"
     ]
    }
   ],
   "source": [
    "from scipy.spatial import distance\n",
    "\n",
    "# distance between protein and the center of the affected cluster\n",
    "dist = np.zeros_like(S2clusters)\n",
    "for i in xrange (len(S2clusters)):\n",
    "    dist[i] = distance.euclidean(S[i],S2centers[S2clusters[i]])\n",
    "\n",
    "# choose the protein the more close to the center to maximize distance in S2\n",
    "S2 = np.zeros_like(S2centers)\n",
    "first_visit = np.zeros(S2centers.shape[0])\n",
    "min_dist = np.zeros(S2centers.shape[0])\n",
    "for k in xrange(S2centers.shape[0]):\n",
    "    for j in xrange(S.shape[0]):\n",
    "        if S2clusters[j] == k:\n",
    "            if first_visit[k] == 0:\n",
    "                S2[k] = S[j]\n",
    "                min_dist[k] = dist[j]\n",
    "                first_visit[k] = 1\n",
    "            else:\n",
    "                if dist[j] < dist[k]:\n",
    "                    S2[k] = S[j]\n",
    "            \n",
    "np.save(\"S2\",S2,allow_pickle=True)\n",
    "np.savetxt(\"S2.txt\",S2,delimiter=\" \")"
   ]
  }
 ],
 "metadata": {
  "anaconda-cloud": {},
  "kernelspec": {
   "display_name": "Python [conda root]",
   "language": "python",
   "name": "conda-root-py"
  },
  "language_info": {
   "codemirror_mode": {
    "name": "ipython",
    "version": 2
   },
   "file_extension": ".py",
   "mimetype": "text/x-python",
   "name": "python",
   "nbconvert_exporter": "python",
   "pygments_lexer": "ipython2",
   "version": "2.7.12"
  }
 },
 "nbformat": 4,
 "nbformat_minor": 1
}
