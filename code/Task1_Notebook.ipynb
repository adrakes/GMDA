{
 "cells": [
  {
   "cell_type": "markdown",
   "metadata": {},
   "source": [
    "# Task 1"
   ]
  },
  {
   "cell_type": "code",
   "execution_count": 15,
   "metadata": {
    "collapsed": false
   },
   "outputs": [],
   "source": [
    "from os import chdir\n",
    "import numpy as np\n",
    "import scipy as sp\n",
    "from matplotlib import pyplot as plt\n",
    "#%pylab inline\n",
    "%config InlineBackend.figure_format = 'retina'"
   ]
  },
  {
   "cell_type": "code",
   "execution_count": 16,
   "metadata": {
    "collapsed": false
   },
   "outputs": [],
   "source": [
    "# import data\n",
    "\n",
    "chdir ('/Users/paulvercoustre/Documents/Education/Centrale_ESSEC/Geometric_Methods_in_Data_Analysis/Project/Data')\n",
    "\n",
    "# we denote S the matrix of beads coordinates\n",
    "S = np.loadtxt('hybrid-TRRT-BH-BLN__minima.txt', delimiter=' ',\n",
    "               usecols = (range(0,208)))\n",
    "\n",
    "np.save(\"S\",S,allow_pickle=True) # save S as a numpy object for quicker computation\n",
    "\n",
    "# we denote E_S the vector of corresponding energies\n",
    "E_S = np.loadtxt('hybrid-TRRT-BH-BLN__energies.txt', delimiter=' ')"
   ]
  },
  {
   "cell_type": "code",
   "execution_count": 17,
   "metadata": {
    "collapsed": true
   },
   "outputs": [],
   "source": [
    "chdir ('/Users/paulvercoustre/Documents/Education/Centrale_ESSEC/Geometric_Methods_in_Data_Analysis/Project/Data')\n",
    "\n",
    "S = np.load(\"S.npy\")\n",
    "\n",
    "# we denote E_S the vector of corresponding energies\n",
    "E_S = np.loadtxt('hybrid-TRRT-BH-BLN__energies.txt', delimiter=' ')"
   ]
  },
  {
   "cell_type": "code",
   "execution_count": 18,
   "metadata": {
    "collapsed": false
   },
   "outputs": [
    {
     "name": "stdout",
     "output_type": "stream",
     "text": [
      "Dimension of conformation matrix: (1044118, 208)\n",
      "Dimension of energy vector: (1044118,)\n"
     ]
    }
   ],
   "source": [
    "# overview of data dimensionality\n",
    "print \"Dimension of conformation matrix:\", S.shape\n",
    "\n",
    "print \"Dimension of energy vector:\", E_S.shape"
   ]
  },
  {
   "cell_type": "code",
   "execution_count": 19,
   "metadata": {
    "collapsed": false
   },
   "outputs": [
    {
     "name": "stdout",
     "output_type": "stream",
     "text": [
      "(10, 208)\n"
     ]
    }
   ],
   "source": [
    "# find the index of the 10 lowest minima\n",
    "idx = np.argpartition(E_S, 10)\n",
    "\n",
    "# T is the corresponding matrix of coordinates\n",
    "T = S[idx[0:10],]\n",
    "\n",
    "print T.shape"
   ]
  },
  {
   "cell_type": "code",
   "execution_count": 24,
   "metadata": {
    "collapsed": true
   },
   "outputs": [],
   "source": [
    "# export for distance computation with SBL\n",
    "np.savetxt(\"10_local_minima.txt\", T, fmt='%.5f', delimiter=\" \")"
   ]
  },
  {
   "cell_type": "code",
   "execution_count": 25,
   "metadata": {
    "collapsed": true
   },
   "outputs": [],
   "source": [
    "# We use the text file exported as an input for the \"Conformationan Aanlysis\" package in SBL. \n",
    "# We then import the output that was generated to permform the MDS"
   ]
  },
  {
   "cell_type": "code",
   "execution_count": 26,
   "metadata": {
    "collapsed": false
   },
   "outputs": [],
   "source": [
    "# import T_dist the matrix of pairwise distances between members of T (Least RMSD)\n",
    "T_dist = np.loadtxt('sbl-conf-ensemble-analysis-lrmsd__pairwise_distances.txt', delimiter=' ',\n",
    "               usecols = (range(0,10)))"
   ]
  },
  {
   "cell_type": "code",
   "execution_count": 35,
   "metadata": {
    "collapsed": false
   },
   "outputs": [
    {
     "name": "stdout",
     "output_type": "stream",
     "text": [
      "breaking at iteration 123 with stress 0.299627174412\n",
      "breaking at iteration 163 with stress 0.299627174408\n",
      "breaking at iteration 228 with stress 0.195013269669\n",
      "breaking at iteration 247 with stress 0.195074893497\n"
     ]
    }
   ],
   "source": [
    "from sklearn import manifold\n",
    "from sklearn.metrics import euclidean_distances\n",
    "from adjustText import adjust_text\n",
    "\n",
    "seed = 1 #generate reproducable results\n",
    "\n",
    "mds_lrmsd = manifold.MDS(n_components=2, max_iter=3000, eps=1e-9, random_state=seed, \n",
    "                         dissimilarity=\"precomputed\", n_jobs = -1, verbose = True)\n",
    "\n",
    "T_dist_mds = mds_lrmsd.fit_transform(T_dist)\n",
    "\n",
    "fig, ax = plt.subplots()\n",
    "ax.scatter(T_dist_mds[:, 0], T_dist_mds[:, 1])\n",
    "\n",
    "texts = []\n",
    "for i, txt in enumerate(idx[0:10]):\n",
    "    texts.append(ax.text(T_dist_mds[:, 0][i],T_dist_mds[:, 1][i], txt))\n",
    "adjust_text(texts)\n",
    "\n",
    "plt.xticks([-1,-0.5,0,0.5,1])\n",
    "plt.yticks([-1,-0.5,0,0.5,1])\n",
    "plt.title(\"2D MDS on 10 lowest local minima of BNL69\")\n",
    "#plt.show()\n",
    "plt.savefig('MDS_Q1.png')"
   ]
  },
  {
   "cell_type": "code",
   "execution_count": null,
   "metadata": {
    "collapsed": true
   },
   "outputs": [],
   "source": []
  }
 ],
 "metadata": {
  "anaconda-cloud": {},
  "kernelspec": {
   "display_name": "Python [conda root]",
   "language": "python",
   "name": "conda-root-py"
  },
  "language_info": {
   "codemirror_mode": {
    "name": "ipython",
    "version": 2
   },
   "file_extension": ".py",
   "mimetype": "text/x-python",
   "name": "python",
   "nbconvert_exporter": "python",
   "pygments_lexer": "ipython2",
   "version": "2.7.12"
  }
 },
 "nbformat": 4,
 "nbformat_minor": 1
}
