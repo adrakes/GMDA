{
 "cells": [
  {
   "cell_type": "code",
   "execution_count": 25,
   "metadata": {
    "collapsed": false
   },
   "outputs": [],
   "source": [
    "import numpy as np\n",
    "import scipy as sp\n",
    "from matplotlib import pyplot as plt\n",
    "#%pylab inline\n",
    "%config InlineBackend.figure_format = 'retina'"
   ]
  },
  {
   "cell_type": "code",
   "execution_count": 2,
   "metadata": {
    "collapsed": false
   },
   "outputs": [],
   "source": [
    "# import data\n",
    "\n",
    "# we denote P the matrix of beads coordinates with minima below 100\n",
    "P = np.loadtxt('/Users/paulvercoustre/Documents/Education/Centrale_ESSEC/Geometric_Methods_in_Data_Analysis/Project/Data/hybrid-TRRT-BH-BLN__minima_below_100.txt', delimiter=' ',\n",
    "               usecols = (range(0,208)))\n",
    "\n",
    "# we denote E the vector of corresponding energies\n",
    "E = np.loadtxt('/Users/paulvercoustre/Documents/Education/Centrale_ESSEC/Geometric_Methods_in_Data_Analysis/Project/Data/hybrid-TRRT-BH-BLN__energies_below_100.txt', delimiter=' ')\n",
    "\n",
    "# we denote P the matrix of beads coordinates with minima\n",
    "#P = np.loadtxt('/Users/paulvercoustre/Documents/Education/Centrale_ESSEC/Geometric_Methods_in_Data_Analysis/Project/Data/hybrid-TRRT-BH-BLN__minima.txt', delimiter=' ',\n",
    "#               usecols = (range(0,208)))\n",
    "\n",
    "# we denote E the vector of corresponding energies\n",
    "#E = np.loadtxt('/Users/paulvercoustre/Documents/Education/Centrale_ESSEC/Geometric_Methods_in_Data_Analysis/Project/Data/hybrid-TRRT-BH-BLN__energies.txt', delimiter=' ')"
   ]
  },
  {
   "cell_type": "code",
   "execution_count": 3,
   "metadata": {
    "collapsed": false
   },
   "outputs": [
    {
     "name": "stdout",
     "output_type": "stream",
     "text": [
      "(666113, 208)\n",
      "[[  2.07000000e+02  -4.43011000e-01  -3.39488000e+00 ...,   1.48362000e-01\n",
      "   -3.38674000e+00  -3.42458000e+00]\n",
      " [  2.07000000e+02  -4.48354000e-01  -3.41686000e+00 ...,   1.29284000e-01\n",
      "   -3.37191000e+00  -3.48512000e+00]\n",
      " [  2.07000000e+02  -4.63900000e-01  -3.42362000e+00 ...,   1.63650000e-01\n",
      "   -3.42852000e+00  -3.43169000e+00]\n",
      " ..., \n",
      " [  2.07000000e+02  -3.70203000e+00   5.11867000e+00 ...,  -4.84794000e+00\n",
      "    3.93395000e+00   4.88339000e+00]\n",
      " [  2.07000000e+02  -3.74026000e+00   5.12019000e+00 ...,  -4.93418000e+00\n",
      "    3.98871000e+00   4.86404000e+00]\n",
      " [  2.07000000e+02  -3.81273000e+00   5.11642000e+00 ...,  -5.04165000e+00\n",
      "    4.01044000e+00   4.85772000e+00]]\n",
      "(666113,)\n",
      "[-104.94285282 -105.15955987 -105.14108718 ..., -102.20536976 -102.18297477\n",
      " -102.20732906]\n"
     ]
    }
   ],
   "source": [
    "print P.shape\n",
    "print P\n",
    "\n",
    "print E.shape\n",
    "print E"
   ]
  },
  {
   "cell_type": "code",
   "execution_count": 54,
   "metadata": {
    "collapsed": false
   },
   "outputs": [],
   "source": [
    "# find the index of the 10 lowest minima\n",
    "idx = np.argpartition(E, 10)\n",
    "\n",
    "# T is the corresponding matrix of coordinates\n",
    "T = P[idx[0:10],]"
   ]
  },
  {
   "cell_type": "code",
   "execution_count": 69,
   "metadata": {
    "collapsed": false
   },
   "outputs": [
    {
     "name": "stdout",
     "output_type": "stream",
     "text": [
      "[ 14725   9361 598547  15697 635923 126122 514166  65179   7604 635917]\n",
      "(666113,)\n"
     ]
    }
   ],
   "source": [
    "print idx[0:10]\n",
    "print idx.shape\n"
   ]
  },
  {
   "cell_type": "code",
   "execution_count": 11,
   "metadata": {
    "collapsed": false
   },
   "outputs": [
    {
     "name": "stdout",
     "output_type": "stream",
     "text": [
      "(10, 208)\n",
      "[[ 207.         -4.02801    -4.68537  ...,   -3.10247    -5.98364\n",
      "    -4.44942 ]\n",
      " [ 207.         -2.39868    -5.17805  ...,   -1.71999    -4.93392\n",
      "    -4.92425 ]\n",
      " [ 207.          4.85442    -2.39506  ...,    5.85686    -3.23441\n",
      "     2.81023 ]\n",
      " ..., \n",
      " [ 207.        -10.3285     -0.714158 ...,  -10.8454     -2.37155\n",
      "    -1.31898 ]\n",
      " [ 207.          2.21469    -2.58894  ...,    3.73964    -2.63865\n",
      "    -3.96996 ]\n",
      " [ 207.         -2.22213    -4.61959  ...,   -3.08526    -3.82887    -5.3905  ]]\n",
      "float64\n"
     ]
    }
   ],
   "source": [
    "print T.shape\n",
    "print T\n",
    "print T.dtype"
   ]
  },
  {
   "cell_type": "code",
   "execution_count": 27,
   "metadata": {
    "collapsed": true
   },
   "outputs": [],
   "source": [
    "# export for distance computation with SBL\n",
    "np.savetxt(\"10_local_minima.txt\", T, fmt='%.5f', delimiter=\" \")"
   ]
  },
  {
   "cell_type": "code",
   "execution_count": 28,
   "metadata": {
    "collapsed": false
   },
   "outputs": [],
   "source": [
    "# import T_dist the matrix of pairwise distances between members of T (Least RMSD)\n",
    "T_dist = np.loadtxt('/Users/paulvercoustre/Dropbox/sbl-conf-ensemble-analysis-lrmsd__pairwise_distances.txt', delimiter=' ',\n",
    "               usecols = (range(0,10)))"
   ]
  },
  {
   "cell_type": "code",
   "execution_count": 133,
   "metadata": {
    "collapsed": false
   },
   "outputs": [],
   "source": [
    "from sklearn import manifold\n",
    "from sklearn.metrics import euclidean_distances\n",
    "from adjustText import adjust_text\n",
    "\n",
    "seed = 1 #generate reproducable results\n",
    "\n",
    "mds_lrmsd = manifold.MDS(n_components=2, max_iter=3000, eps=1e-9, random_state=seed, \n",
    "                         dissimilarity=\"precomputed\", n_jobs=1)\n",
    "\n",
    "T_dist_mds = mds_lrmsd.fit_transform(T_dist)\n",
    "\n",
    "fig, ax = plt.subplots()\n",
    "ax.scatter(T_dist_mds[:, 0], T_dist_mds[:, 1])\n",
    "\n",
    "texts = []\n",
    "for i, txt in enumerate(idx[0:10]):\n",
    "    texts.append(ax.text(T_dist_mds[:, 0][i],T_dist_mds[:, 1][i], txt))\n",
    "adjust_text(texts)\n",
    "\n",
    "plt.xticks([-1,-0.5,0,0.5,1])\n",
    "plt.yticks([-1,-0.5,0,0.5,1])\n",
    "plt.title(\"2D MDS on 10 lowest local minima of BNL69\")\n",
    "#plt.show()\n",
    "plt.savefig('MDS_Q1.png')"
   ]
  }
 ],
 "metadata": {
  "anaconda-cloud": {},
  "kernelspec": {
   "display_name": "Python [conda root]",
   "language": "python",
   "name": "conda-root-py"
  },
  "language_info": {
   "codemirror_mode": {
    "name": "ipython",
    "version": 2
   },
   "file_extension": ".py",
   "mimetype": "text/x-python",
   "name": "python",
   "nbconvert_exporter": "python",
   "pygments_lexer": "ipython2",
   "version": "2.7.12"
  }
 },
 "nbformat": 4,
 "nbformat_minor": 1
}
